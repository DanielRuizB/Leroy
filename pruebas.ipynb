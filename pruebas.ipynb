{
 "cells": [
  {
   "cell_type": "code",
   "execution_count": null,
   "source": [
    "url_keywords='C:/Users/51232209p/Desktop/leroyPython/venvLeroyKW'\r\n",
    "datwords=pd.read_excel(url_keywords,sheet_name='Hoja2')\r\n",
    "for token in correo:\r\n",
    "    for i in datwords.index:\r\n",
    "        try:\r\n",
    "            listwords=datwords.iloc[:,i].toList()\r\n",
    "        except:\r\n",
    "            break\r\n",
    "        if token.lemma_.lower() in listwords or token.text.lower() in listwords:\r\n",
    "            categoria=datwords.columns.value[i]\r\n",
    "\r\n"
   ],
   "outputs": [],
   "metadata": {}
  }
 ],
 "metadata": {
  "orig_nbformat": 4,
  "language_info": {
   "name": "python"
  }
 },
 "nbformat": 4,
 "nbformat_minor": 2
}